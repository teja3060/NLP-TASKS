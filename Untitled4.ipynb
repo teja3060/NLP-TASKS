{
  "nbformat": 4,
  "nbformat_minor": 0,
  "metadata": {
    "colab": {
      "provenance": []
    },
    "kernelspec": {
      "name": "python3",
      "display_name": "Python 3"
    },
    "language_info": {
      "name": "python"
    }
  },
  "cells": [
    {
      "cell_type": "code",
      "execution_count": 2,
      "metadata": {
        "colab": {
          "base_uri": "https://localhost:8080/"
        },
        "id": "k6igh-g2RPGu",
        "outputId": "bf901e89-26bd-45fe-86df-eb260b1c8d19"
      },
      "outputs": [
        {
          "output_type": "stream",
          "name": "stdout",
          "text": [
            "[('This', 'DT'), ('is', 'VBZ'), ('an', 'DT'), ('example', 'NN'), ('sentence', 'NNS'), ('for', 'IN'), ('HMM', 'DT'), ('tagging', 'NN'), ('.', '.')]\n"
          ]
        }
      ],
      "source": [
        "import nltk\n",
        "from nltk.tag import HiddenMarkovModelTagger\n",
        "from nltk.corpus import treebank\n",
        "corpus = treebank.tagged_sents()\n",
        "train_data = corpus[:3000]\n",
        "test_data = corpus[3000:]\n",
        "hmm_tagger = HiddenMarkovModelTagger.train(train_data)\n",
        "sentence = \"This is an example sentence for HMM tagging.\"\n",
        "tokens = nltk.word_tokenize(sentence)\n",
        "tagged_sentence = hmm_tagger.tag(tokens)\n",
        "print(tagged_sentence)"
      ]
    }
  ]
}