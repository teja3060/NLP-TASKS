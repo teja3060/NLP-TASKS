{
  "nbformat": 4,
  "nbformat_minor": 0,
  "metadata": {
    "colab": {
      "provenance": []
    },
    "kernelspec": {
      "name": "python3",
      "display_name": "Python 3"
    },
    "language_info": {
      "name": "python"
    }
  },
  "cells": [
    {
      "cell_type": "code",
      "execution_count": 2,
      "metadata": {
        "id": "-WvukU4TGtec",
        "colab": {
          "base_uri": "https://localhost:8080/"
        },
        "outputId": "8f8cdf64-e80f-42b5-a4cf-0988b05ca955"
      },
      "outputs": [
        {
          "output_type": "stream",
          "name": "stdout",
          "text": [
            "Morphology of the document:\n",
            "coolie: 1\n",
            "grand: 1\n",
            "cinematic: 1\n",
            "spectacle: 1\n",
            "directed: 1\n",
            "talented: 1\n",
            "lokesh: 1\n",
            "kanagaraj: 1\n",
            "kinathukadavu: 1\n",
            "boy: 1\n",
            "proves: 1\n",
            "mettle: 1\n",
            "crafting: 1\n",
            "stylish: 1\n",
            "entertainer: 1\n",
            "film: 1\n",
            "brings: 1\n",
            "together: 1\n",
            "incredible: 1\n",
            "ensemble: 1\n",
            "cast: 1\n",
            "skilled: 1\n",
            "crew: 1\n",
            "delivering: 1\n",
            "memorable: 1\n",
            "experience: 1\n",
            "tamil: 1\n",
            "audiences: 1\n",
            "alike: 1\n"
          ]
        },
        {
          "output_type": "stream",
          "name": "stderr",
          "text": [
            "[nltk_data] Downloading package punkt to /root/nltk_data...\n",
            "[nltk_data]   Package punkt is already up-to-date!\n",
            "[nltk_data] Downloading package stopwords to /root/nltk_data...\n",
            "[nltk_data]   Package stopwords is already up-to-date!\n",
            "[nltk_data] Downloading package punkt_tab to /root/nltk_data...\n",
            "[nltk_data]   Package punkt_tab is already up-to-date!\n"
          ]
        }
      ],
      "source": [
        "import nltk\n",
        "from nltk.tokenize import word_tokenize\n",
        "from nltk.corpus import stopwords\n",
        "from nltk.probability import FreqDist\n",
        "nltk.download('punkt')\n",
        "nltk.download('stopwords')\n",
        "nltk.download('punkt_tab')\n",
        "def load_document(file_path):\n",
        "    with open(file_path, 'r', encoding='utf-8') as file:\n",
        "        return file.read()\n",
        "def tokenize_document(document):\n",
        "    tokens = word_tokenize(document)\n",
        "    return [word.lower() for word in tokens if word.isalpha()]\n",
        "def remove_stopwords(tokens):\n",
        "    stop_words = set(stopwords.words('english'))\n",
        "    return [word for word in tokens if word not in stop_words]\n",
        "def find_morphology(tokens):\n",
        "    fdist = FreqDist(tokens)\n",
        "    return fdist.most_common()\n",
        "document_path = '/content/Coolie is a grand cinematic spectac.txt'\n",
        "document = load_document(document_path)\n",
        "tokens = tokenize_document(document)\n",
        "tokens_without_stopwords = remove_stopwords(tokens)\n",
        "morphology = find_morphology(tokens_without_stopwords)\n",
        "print(\"Morphology of the document:\")\n",
        "for word, frequency in morphology:\n",
        "    print(f\"{word}: {frequency}\")"
      ]
    }
  ]
}