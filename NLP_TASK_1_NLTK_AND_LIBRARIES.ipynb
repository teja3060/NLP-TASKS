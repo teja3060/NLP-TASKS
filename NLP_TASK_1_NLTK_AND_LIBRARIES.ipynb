{
  "nbformat": 4,
  "nbformat_minor": 0,
  "metadata": {
    "colab": {
      "provenance": []
    },
    "kernelspec": {
      "name": "python3",
      "display_name": "Python 3"
    },
    "language_info": {
      "name": "python"
    }
  },
  "cells": [
    {
      "cell_type": "code",
      "execution_count": null,
      "metadata": {
        "colab": {
          "base_uri": "https://localhost:8080/"
        },
        "id": "CZCh8YQK93bW",
        "outputId": "69e79f18-f31b-4ee5-b00a-871fa96129a9"
      },
      "outputs": [
        {
          "output_type": "stream",
          "name": "stdout",
          "text": [
            "match found: abc\n",
            "character found: H\n",
            "vowel found: H\n",
            "Social Security Number: 123-45-6789\n",
            "Dot found: .\n",
            "Day: 01\n",
            "Month: 09\n",
            "Year: 2024\n",
            "Animal found: cat\n"
          ]
        }
      ],
      "source": [
        "import re\n",
        "pattern1 = re.compile(r'abc')\n",
        "result1 = pattern1.match('abcdef')\n",
        "if result1:\n",
        "  print(\"match found:\",result1.group())\n",
        "pattern2 = re.compile(r'.')\n",
        "result2 = pattern2.search('Hello')\n",
        "if result2:\n",
        "  print(\"character found:\",result2.group())\n",
        "pattern3 = re.compile(r'[^aeiou]')\n",
        "result3 = pattern3.search('Hello')\n",
        "if result3:\n",
        "  print(\"vowel found:\",result3.group())\n",
        "pattern4 = re.compile(r'\\d{3}-\\d{2}-\\d{4}')\n",
        "result4 = pattern4.match('123-45-6789')\n",
        "if result4:\n",
        "  print(\"Social Security Number:\",result4.group())\n",
        "pattern5 = re.compile(r'\\.')\n",
        "result5 = pattern5.search('www.example.com')\n",
        "if result5:\n",
        "  print(\"Dot found:\",result5.group())\n",
        "pattern6 = re.compile(r'(\\d{2})/(\\d{2})/(\\d{4})')\n",
        "result6 = pattern6.match('01/09/2024')\n",
        "if result6:\n",
        "  print(\"Day:\",result6.group(1))\n",
        "  print(\"Month:\",result6.group(2))\n",
        "  print(\"Year:\",result6.group(3))\n",
        "pattern7 = re.compile(r'cat|dog')\n",
        "result7  = pattern7.search('I have a cat and a dog')\n",
        "if result7:\n",
        "  print(\"Animal found:\",result7.group())"
      ]
    }
  ]
}